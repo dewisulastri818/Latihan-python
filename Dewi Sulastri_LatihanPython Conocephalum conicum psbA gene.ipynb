{
 "cells": [
  {
   "cell_type": "code",
   "execution_count": 5,
   "id": "f05a1735-4f29-4117-a7b1-9d72031bbd33",
   "metadata": {},
   "outputs": [
    {
     "name": "stdout",
     "output_type": "stream",
     "text": [
      "{'Count': '34', 'RetMax': '20', 'RetStart': '0', 'IdList': ['2073948759', '2073948671', '5689009', '541861871', '90025028', '82546914', '972313323', '5811592', '5811590', '5811589', '5811588', '5689011', '5689007', '5689005', '5689003', '5689001', '5688991', '5688989', '5688987', '5688985'], 'TranslationSet': [{'From': 'Conocephalum conicum', 'To': '\"Conocephalum conicum\"[Organism] OR Conocephalum conicum[All Fields]'}], 'TranslationStack': [{'Term': '\"Conocephalum conicum\"[Organism]', 'Field': 'Organism', 'Count': '571', 'Explode': 'Y'}, {'Term': 'Conocephalum conicum[All Fields]', 'Field': 'All Fields', 'Count': '641', 'Explode': 'N'}, 'OR', 'GROUP', {'Term': 'psbA[All Fields]', 'Field': 'All Fields', 'Count': '219049', 'Explode': 'N'}, 'AND', 'GROUP'], 'QueryTranslation': '(\"Conocephalum conicum\"[Organism] OR Conocephalum conicum[All Fields]) AND psbA[All Fields]'}\n"
     ]
    }
   ],
   "source": [
    "from Bio import Entrez\n",
    "Entrez.email = \"localuser@localhost.localdomain\" #Mandatory! Can be replaced with your personal email.\n",
    "\n",
    "#creating handle\n",
    "handle = Entrez.esearch(db=\"nuccore\", term=\"Conocephalum conicum psbA\")\n",
    "record = Entrez.read(handle)\n",
    "print(record)\n",
    "handle.close() #always close your handle after you finish"
   ]
  },
  {
   "cell_type": "code",
   "execution_count": 6,
   "id": "dd40372e-73ca-4c2f-b3c8-e89e74512bdb",
   "metadata": {},
   "outputs": [
    {
     "name": "stdout",
     "output_type": "stream",
     "text": [
      "LOCUS       AB020604                1234 bp    DNA     linear   PLN 26-JUL-2016\n",
      "DEFINITION  Conocephalum conicum chloroplast psbA gene, complete cds,\n",
      "            strain:YFS.\n",
      "ACCESSION   AB020604\n",
      "VERSION     AB020604.2\n",
      "KEYWORDS    psbA.\n",
      "SOURCE      chloroplast Conocephalum conicum\n",
      "  ORGANISM  Conocephalum conicum\n",
      "            Eukaryota; Viridiplantae; Streptophyta; Embryophyta;\n",
      "            Marchantiophyta; Marchantiopsida; Marchantiidae; Marchantiales;\n",
      "            Conocephalaceae; Conocephalum.\n",
      "REFERENCE   1\n",
      "  AUTHORS   Ki,H.N., Nitasaka,E., Odrzykoski,I.J. and Yamazak,T.\n",
      "  TITLE     Phylogenetic relationships among taxa of the liverwort Conocephalum\n",
      "            conicum (Conocephalaceae) revealed by psbA sequence\n",
      "  JOURNAL   Genes Genet. Syst. 76 (5), 279-288 (2001)\n",
      "   PUBMED   11817643\n",
      "REFERENCE   2  (bases 1 to 1234)\n",
      "  AUTHORS   Kim,H.N., Tachida,H., Odrzykoski,I.J. and Yamazaki,T.\n",
      "  TITLE     Direct Submission\n",
      "  JOURNAL   Submitted (01-DEC-1998) Hong Nam Kim, Jeonju University, Institute\n",
      "            of Natural Science; 1200, 3Ga Hyoja-Dong Wansan-Gu, Jeonju-City,\n",
      "            Jeonbuk 560-759, Korea (E-mail:hnkim@jeonju.ac.kr,\n",
      "            Tel:82-652-220-2369, Fax:82-652-220-2369)\n",
      "COMMENT     On Aug 31, 1999 this sequence version replaced AB020604.1.\n",
      "            Sequence updated (26-Aug-1999).\n",
      "FEATURES             Location/Qualifiers\n",
      "     source          1..1234\n",
      "                     /organism=\"Conocephalum conicum\"\n",
      "                     /organelle=\"plastid:chloroplast\"\n",
      "                     /mol_type=\"genomic DNA\"\n",
      "                     /strain=\"YFS\"\n",
      "                     /db_xref=\"taxon:41839\"\n",
      "                     /tissue_type=\"thallus\"\n",
      "                     /dev_stage=\"gametophyte\"\n",
      "                     /note=\"haploid\"\n",
      "     gene            173..1234\n",
      "                     /gene=\"psbA\"\n",
      "     CDS             173..1234\n",
      "                     /gene=\"psbA\"\n",
      "                     /codon_start=1\n",
      "                     /transl_table=11\n",
      "                     /protein_id=\"BAA82775.2\"\n",
      "                     /translation=\"MTATLERRESASIWGRFCNWVTSTENRLNIGWFGVLMIPTLLTA\n",
      "                     TSVFIIAFIAAPPVDIDGIREPVSGSLLYGNNIISGAIIPTSAAIGLHFYPIWEAASV\n",
      "                     DEWLYNGGPYEIIVLHFLLGVACYMGREWELSYRLGMRPWIAVAYSAPVAAATAVFLI\n",
      "                     YPIGQGSFSDGMPLGISGTFNFMIVFQAEHNILMHPFHMLGVAGVFGGSLFSAMHGSL\n",
      "                     VTSSLIRETTENESANAGYKFGQEEETYNIVAAHGYFGRLIFQYASFNNSRSLHFFLA\n",
      "                     AWPVVGIWFTALGISTMAFNLNGFNFNQSVVDSQGRVINTWADIINRANLGMEVMHER\n",
      "                     NAHNFPLDLAAVEAPAVNG\"\n",
      "ORIGIN      \n",
      "        1 tatttgtggg ttgaataaaa ttatttgaaa tatataaata tatatatttc aaataaatat\n",
      "       61 ataaaatatt tttattttta gttgacataa tcatatgtaa tgtgttatac tgttaattaa\n",
      "      121 caaattgaat tatttgggaa attcttaatt actttaaaaa ccaagtttta ctatgacagc\n",
      "      181 tactttagaa agacgcgaaa gcgcaagcat ttggggtcgt ttctgcaatt gggttactag\n",
      "      241 cactgaaaat cgtctaaaca ttggatggtt tggtgtattg atgattccta ctttattaac\n",
      "      301 agcaacttca gtatttatta ttgcttttat tgcagctcct cctgtagata ttgacggtat\n",
      "      361 ccgtgaacct gtatctggtt ctcttcttta tggaaataat atcatttctg gtgctattat\n",
      "      421 ccctacttct gcagctattg gtttacattt ttaccctatt tgggaagctg cttctgttga\n",
      "      481 tgaatggtta tacaatggtg gtccttacga aattatcgtt cttcattttt tacttggtgt\n",
      "      541 agcatgctac atgggtcgtg aatgggaact tagctatcgt ttaggtatgc gcccttggat\n",
      "      601 tgctgttgca tactcagctc ctgttgctgc tgctactgca gttttcttga tctatcctat\n",
      "      661 tggtcaagga agtttctctg acggtatgcc tttaggtatc tctggtactt tcaatttcat\n",
      "      721 gattgtattc caagctgaac acaacatcct tatgcaccca ttccatatgt tgggtgtagc\n",
      "      781 tggtgtattc ggcggttctc tattcagcgc tatgcatggt tctttggtaa cttcaagttt\n",
      "      841 aatccgagaa actactgaga atgagtctgc taacgcaggt tacaagtttg gtcaagaaga\n",
      "      901 agaaacttac aacattgtag ctgctcatgg ttactttggt agattaatct tccaatatgc\n",
      "      961 tagttttaac aactctcgtt ctttacattt ctttttagct gcttggcctg ttgtaggtat\n",
      "     1021 ttggtttact gctttaggta tcagcactat ggctttcaac ttaaatgggt ttaactttaa\n",
      "     1081 ccaatctgta gttgatagtc aaggtcgtgt aattaatact tgggctgata ttatcaaccg\n",
      "     1141 tgctaacctt ggtatggaag ttatgcatga acgtaacgct cacaacttcc ctctagattt\n",
      "     1201 agctgctgtt gaagctcctg ctgtaaacgg ttaa\n",
      "//\n",
      "\n",
      "\n"
     ]
    }
   ],
   "source": [
    "efetch_handle = Entrez.efetch(db=\"nuccore\", id=\"5811590\", rettype=\"gb\", retmode=\"text\")\n",
    "gbrecord = efetch_handle.read()\n",
    "print(gbrecord)"
   ]
  },
  {
   "cell_type": "code",
   "execution_count": 7,
   "id": "ff322d98-167d-408b-8e02-e4f96eb815df",
   "metadata": {},
   "outputs": [
    {
     "name": "stdout",
     "output_type": "stream",
     "text": [
      ">AB020604.2 Conocephalum conicum chloroplast psbA gene, complete cds, strain:YFS\n",
      "TATTTGTGGGTTGAATAAAATTATTTGAAATATATAAATATATATATTTCAAATAAATATATAAAATATT\n",
      "TTTATTTTTAGTTGACATAATCATATGTAATGTGTTATACTGTTAATTAACAAATTGAATTATTTGGGAA\n",
      "ATTCTTAATTACTTTAAAAACCAAGTTTTACTATGACAGCTACTTTAGAAAGACGCGAAAGCGCAAGCAT\n",
      "TTGGGGTCGTTTCTGCAATTGGGTTACTAGCACTGAAAATCGTCTAAACATTGGATGGTTTGGTGTATTG\n",
      "ATGATTCCTACTTTATTAACAGCAACTTCAGTATTTATTATTGCTTTTATTGCAGCTCCTCCTGTAGATA\n",
      "TTGACGGTATCCGTGAACCTGTATCTGGTTCTCTTCTTTATGGAAATAATATCATTTCTGGTGCTATTAT\n",
      "CCCTACTTCTGCAGCTATTGGTTTACATTTTTACCCTATTTGGGAAGCTGCTTCTGTTGATGAATGGTTA\n",
      "TACAATGGTGGTCCTTACGAAATTATCGTTCTTCATTTTTTACTTGGTGTAGCATGCTACATGGGTCGTG\n",
      "AATGGGAACTTAGCTATCGTTTAGGTATGCGCCCTTGGATTGCTGTTGCATACTCAGCTCCTGTTGCTGC\n",
      "TGCTACTGCAGTTTTCTTGATCTATCCTATTGGTCAAGGAAGTTTCTCTGACGGTATGCCTTTAGGTATC\n",
      "TCTGGTACTTTCAATTTCATGATTGTATTCCAAGCTGAACACAACATCCTTATGCACCCATTCCATATGT\n",
      "TGGGTGTAGCTGGTGTATTCGGCGGTTCTCTATTCAGCGCTATGCATGGTTCTTTGGTAACTTCAAGTTT\n",
      "AATCCGAGAAACTACTGAGAATGAGTCTGCTAACGCAGGTTACAAGTTTGGTCAAGAAGAAGAAACTTAC\n",
      "AACATTGTAGCTGCTCATGGTTACTTTGGTAGATTAATCTTCCAATATGCTAGTTTTAACAACTCTCGTT\n",
      "CTTTACATTTCTTTTTAGCTGCTTGGCCTGTTGTAGGTATTTGGTTTACTGCTTTAGGTATCAGCACTAT\n",
      "GGCTTTCAACTTAAATGGGTTTAACTTTAACCAATCTGTAGTTGATAGTCAAGGTCGTGTAATTAATACT\n",
      "TGGGCTGATATTATCAACCGTGCTAACCTTGGTATGGAAGTTATGCATGAACGTAACGCTCACAACTTCC\n",
      "CTCTAGATTTAGCTGCTGTTGAAGCTCCTGCTGTAAACGGTTAA\n",
      "\n",
      "\n"
     ]
    }
   ],
   "source": [
    "efetch_handle = Entrez.efetch(db=\"nuccore\", id=\"5811590\", rettype=\"fasta\", retmode=\"text\")\n",
    "gbrecord = efetch_handle.read()\n",
    "print(gbrecord)"
   ]
  },
  {
   "cell_type": "code",
   "execution_count": 21,
   "id": "d00084fa-da39-407c-a811-897ef41c3169",
   "metadata": {},
   "outputs": [
    {
     "name": "stdout",
     "output_type": "stream",
     "text": [
      "FASTA Download\n"
     ]
    }
   ],
   "source": [
    "import os\n",
    "\n",
    "#creating EFetch handle\n",
    "filename = \"psbA Conocephalum conicum.gbk\" #up to you, but Genbank files always use *.gb or *.gbk \n",
    "\n",
    "#creating EFetch handle\n",
    "if not os.path.isfile(filename):\n",
    "    # Downloading file...\n",
    "    efetch_handle = Entrez.efetch(db=\"nuccore\", id=\"5811590\", rettype=\"gb\", retmode=\"text\")\n",
    "    output_file_handle = open(filename, \"w\")\n",
    "    output_file_handle.write(efetch_handle.read())\n",
    "    output_file_handle.close()\n",
    "    efetch_handle.close()\n",
    "    print(\"FASTA Download\")\n"
   ]
  },
  {
   "cell_type": "code",
   "execution_count": 22,
   "id": "0958f211-ddbb-4a9e-b62d-21b3961a3eb8",
   "metadata": {},
   "outputs": [
    {
     "name": "stdout",
     "output_type": "stream",
     "text": [
      "GB Download\n"
     ]
    }
   ],
   "source": [
    "import os\n",
    "\n",
    "#creating EFetch handle\n",
    "filename = \"Conocephalum conicum complete .gbk\" #up to you, but Genbank files always use *.gb or *.gbk \n",
    "\n",
    "#creating EFetch handle\n",
    "if not os.path.isfile(filename):\n",
    "    # Downloading file...\n",
    "    efetch_handle = Entrez.efetch(db=\"nuccore\", id=\"5811590\", rettype=\"gb\", retmode=\"text\")\n",
    "    output_file_handle = open(filename, \"w\")\n",
    "    output_file_handle.write(efetch_handle.read())\n",
    "    output_file_handle.close()\n",
    "    efetch_handle.close()\n",
    "    print(\"GB Download\")\n"
   ]
  },
  {
   "cell_type": "code",
   "execution_count": 36,
   "id": "80354677-5228-4840-98cf-9b7ed0b98d47",
   "metadata": {},
   "outputs": [
    {
     "name": "stdout",
     "output_type": "stream",
     "text": [
      ">psbA|Conocephalum conicum chloroplast psbA gene, complete cds, strain:YFS\n",
      "ATGACAGCTACTTTAGAAAGACGCGAAAGCGCAAGCATTTGGGGTCGTTTCTGCAATTGGGTTACTAGCACTGAAAATCGTCTAAACATTGGATGGTTTGGTGTATTGATGATTCCTACTTTATTAACAGCAACTTCAGTATTTATTATTGCTTTTATTGCAGCTCCTCCTGTAGATATTGACGGTATCCGTGAACCTGTATCTGGTTCTCTTCTTTATGGAAATAATATCATTTCTGGTGCTATTATCCCTACTTCTGCAGCTATTGGTTTACATTTTTACCCTATTTGGGAAGCTGCTTCTGTTGATGAATGGTTATACAATGGTGGTCCTTACGAAATTATCGTTCTTCATTTTTTACTTGGTGTAGCATGCTACATGGGTCGTGAATGGGAACTTAGCTATCGTTTAGGTATGCGCCCTTGGATTGCTGTTGCATACTCAGCTCCTGTTGCTGCTGCTACTGCAGTTTTCTTGATCTATCCTATTGGTCAAGGAAGTTTCTCTGACGGTATGCCTTTAGGTATCTCTGGTACTTTCAATTTCATGATTGTATTCCAAGCTGAACACAACATCCTTATGCACCCATTCCATATGTTGGGTGTAGCTGGTGTATTCGGCGGTTCTCTATTCAGCGCTATGCATGGTTCTTTGGTAACTTCAAGTTTAATCCGAGAAACTACTGAGAATGAGTCTGCTAACGCAGGTTACAAGTTTGGTCAAGAAGAAGAAACTTACAACATTGTAGCTGCTCATGGTTACTTTGGTAGATTAATCTTCCAATATGCTAGTTTTAACAACTCTCGTTCTTTACATTTCTTTTTAGCTGCTTGGCCTGTTGTAGGTATTTGGTTTACTGCTTTAGGTATCAGCACTATGGCTTTCAACTTAAATGGGTTTAACTTTAACCAATCTGTAGTTGATAGTCAAGGTCGTGTAATTAATACTTGGGCTGATATTATCAACCGTGCTAACCTTGGTATGGAAGTTATGCATGAACGTAACGCTCACAACTTCCCTCTAGATTTAGCTGCTGTTGAAGCTCCTGCTGTAAACGGTTAA\n"
     ]
    }
   ],
   "source": [
    "from Bio import SeqIO\n",
    "\n",
    "GoI = \"psbA\" \n",
    "\n",
    "for genome in SeqIO.parse(\"psbA Conocephalum conicum.gbk\",\"genbank\"):\n",
    "    for gene in genome.features:\n",
    "        if gene.type != \"CDS\":\n",
    "            continue\n",
    "        if \"gene\" not in gene.qualifiers:\n",
    "            continue\n",
    "        if GoI not in gene.qualifiers[\"gene\"][0]: \n",
    "            continue\n",
    "        gene_seq = gene.extract(genome.seq)\n",
    "\n",
    "GoI_fasta = \">%s|%s\\n%s\" % (GoI, genome.description, gene_seq)\n",
    "print(GoI_fasta)"
   ]
  },
  {
   "cell_type": "code",
   "execution_count": null,
   "id": "1f18e286-6547-4035-a39b-337cb49bab52",
   "metadata": {},
   "outputs": [],
   "source": []
  }
 ],
 "metadata": {
  "kernelspec": {
   "display_name": "Python 3 (ipykernel)",
   "language": "python",
   "name": "python3"
  },
  "language_info": {
   "codemirror_mode": {
    "name": "ipython",
    "version": 3
   },
   "file_extension": ".py",
   "mimetype": "text/x-python",
   "name": "python",
   "nbconvert_exporter": "python",
   "pygments_lexer": "ipython3",
   "version": "3.9.7"
  }
 },
 "nbformat": 4,
 "nbformat_minor": 5
}
